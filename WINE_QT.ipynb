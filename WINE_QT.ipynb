{
  "nbformat": 4,
  "nbformat_minor": 0,
  "metadata": {
    "colab": {
      "provenance": []
    },
    "kernelspec": {
      "name": "python3",
      "display_name": "Python 3"
    },
    "language_info": {
      "name": "python"
    }
  },
  "cells": [
    {
      "cell_type": "code",
      "execution_count": 7,
      "metadata": {
        "colab": {
          "base_uri": "https://localhost:8080/"
        },
        "id": "k0Onu8yVNjq9",
        "outputId": "ead70b25-65e7-42a7-9c2e-7ad8b6af5786"
      },
      "outputs": [
        {
          "output_type": "stream",
          "name": "stdout",
          "text": [
            "      fixed acidity  volatile acidity  citric acid  residual sugar  chlorides  \\\n",
            "0               7.4             0.700         0.00             1.9      0.076   \n",
            "1               7.8             0.880         0.00             2.6      0.098   \n",
            "2               7.8             0.760         0.04             2.3      0.092   \n",
            "3              11.2             0.280         0.56             1.9      0.075   \n",
            "4               7.4             0.700         0.00             1.9      0.076   \n",
            "...             ...               ...          ...             ...        ...   \n",
            "1138            6.3             0.510         0.13             2.3      0.076   \n",
            "1139            6.8             0.620         0.08             1.9      0.068   \n",
            "1140            6.2             0.600         0.08             2.0      0.090   \n",
            "1141            5.9             0.550         0.10             2.2      0.062   \n",
            "1142            5.9             0.645         0.12             2.0      0.075   \n",
            "\n",
            "      free sulfur dioxide  total sulfur dioxide  density    pH  sulphates  \\\n",
            "0                    11.0                  34.0  0.99780  3.51       0.56   \n",
            "1                    25.0                  67.0  0.99680  3.20       0.68   \n",
            "2                    15.0                  54.0  0.99700  3.26       0.65   \n",
            "3                    17.0                  60.0  0.99800  3.16       0.58   \n",
            "4                    11.0                  34.0  0.99780  3.51       0.56   \n",
            "...                   ...                   ...      ...   ...        ...   \n",
            "1138                 29.0                  40.0  0.99574  3.42       0.75   \n",
            "1139                 28.0                  38.0  0.99651  3.42       0.82   \n",
            "1140                 32.0                  44.0  0.99490  3.45       0.58   \n",
            "1141                 39.0                  51.0  0.99512  3.52       0.76   \n",
            "1142                 32.0                  44.0  0.99547  3.57       0.71   \n",
            "\n",
            "      alcohol  quality    Id  \n",
            "0         9.4        5     0  \n",
            "1         9.8        5     1  \n",
            "2         9.8        5     2  \n",
            "3         9.8        6     3  \n",
            "4         9.4        5     4  \n",
            "...       ...      ...   ...  \n",
            "1138     11.0        6  1592  \n",
            "1139      9.5        6  1593  \n",
            "1140     10.5        5  1594  \n",
            "1141     11.2        6  1595  \n",
            "1142     10.2        5  1597  \n",
            "\n",
            "[1143 rows x 13 columns]\n",
            "      fixed acidity  volatile acidity  citric acid  residual sugar  chlorides  \\\n",
            "0             False             False        False           False      False   \n",
            "1             False             False        False           False      False   \n",
            "2             False             False        False           False      False   \n",
            "3             False             False        False           False      False   \n",
            "4             False             False        False           False      False   \n",
            "...             ...               ...          ...             ...        ...   \n",
            "1138          False             False        False           False      False   \n",
            "1139          False             False        False           False      False   \n",
            "1140          False             False        False           False      False   \n",
            "1141          False             False        False           False      False   \n",
            "1142          False             False        False           False      False   \n",
            "\n",
            "      free sulfur dioxide  total sulfur dioxide  density     pH  sulphates  \\\n",
            "0                   False                 False    False  False      False   \n",
            "1                   False                 False    False  False      False   \n",
            "2                   False                 False    False  False      False   \n",
            "3                   False                 False    False  False      False   \n",
            "4                   False                 False    False  False      False   \n",
            "...                   ...                   ...      ...    ...        ...   \n",
            "1138                False                 False    False  False      False   \n",
            "1139                False                 False    False  False      False   \n",
            "1140                False                 False    False  False      False   \n",
            "1141                False                 False    False  False      False   \n",
            "1142                False                 False    False  False      False   \n",
            "\n",
            "      alcohol  quality     Id  \n",
            "0       False    False  False  \n",
            "1       False    False  False  \n",
            "2       False    False  False  \n",
            "3       False    False  False  \n",
            "4       False    False  False  \n",
            "...       ...      ...    ...  \n",
            "1138    False    False  False  \n",
            "1139    False    False  False  \n",
            "1140    False    False  False  \n",
            "1141    False    False  False  \n",
            "1142    False    False  False  \n",
            "\n",
            "[1143 rows x 13 columns]\n"
          ]
        }
      ],
      "source": [
        "import pandas as pd\n",
        "import numpy as np\n",
        "a=pd.read_csv('/content/WineQT.csv')\n",
        "print(a)\n",
        "print(a.isnull())\n",
        "a=a.fillna(0)"
      ]
    },
    {
      "cell_type": "code",
      "source": [
        "import pandas as pd\n",
        "y=a[\"quality\"]\n",
        "print(y)\n",
        "x=a.drop(\"quality\", axis=1)\n",
        "print(x)"
      ],
      "metadata": {
        "colab": {
          "base_uri": "https://localhost:8080/"
        },
        "id": "eQQo3zB9OCrV",
        "outputId": "515e1e7f-36f4-4c69-fa09-d86b642877a3"
      },
      "execution_count": 3,
      "outputs": [
        {
          "output_type": "stream",
          "name": "stdout",
          "text": [
            "0       5\n",
            "1       5\n",
            "2       5\n",
            "3       6\n",
            "4       5\n",
            "       ..\n",
            "1138    6\n",
            "1139    6\n",
            "1140    5\n",
            "1141    6\n",
            "1142    5\n",
            "Name: quality, Length: 1143, dtype: int64\n",
            "      fixed acidity  volatile acidity  citric acid  residual sugar  chlorides  \\\n",
            "0               7.4             0.700         0.00             1.9      0.076   \n",
            "1               7.8             0.880         0.00             2.6      0.098   \n",
            "2               7.8             0.760         0.04             2.3      0.092   \n",
            "3              11.2             0.280         0.56             1.9      0.075   \n",
            "4               7.4             0.700         0.00             1.9      0.076   \n",
            "...             ...               ...          ...             ...        ...   \n",
            "1138            6.3             0.510         0.13             2.3      0.076   \n",
            "1139            6.8             0.620         0.08             1.9      0.068   \n",
            "1140            6.2             0.600         0.08             2.0      0.090   \n",
            "1141            5.9             0.550         0.10             2.2      0.062   \n",
            "1142            5.9             0.645         0.12             2.0      0.075   \n",
            "\n",
            "      free sulfur dioxide  total sulfur dioxide  density    pH  sulphates  \\\n",
            "0                    11.0                  34.0  0.99780  3.51       0.56   \n",
            "1                    25.0                  67.0  0.99680  3.20       0.68   \n",
            "2                    15.0                  54.0  0.99700  3.26       0.65   \n",
            "3                    17.0                  60.0  0.99800  3.16       0.58   \n",
            "4                    11.0                  34.0  0.99780  3.51       0.56   \n",
            "...                   ...                   ...      ...   ...        ...   \n",
            "1138                 29.0                  40.0  0.99574  3.42       0.75   \n",
            "1139                 28.0                  38.0  0.99651  3.42       0.82   \n",
            "1140                 32.0                  44.0  0.99490  3.45       0.58   \n",
            "1141                 39.0                  51.0  0.99512  3.52       0.76   \n",
            "1142                 32.0                  44.0  0.99547  3.57       0.71   \n",
            "\n",
            "      alcohol    Id  \n",
            "0         9.4     0  \n",
            "1         9.8     1  \n",
            "2         9.8     2  \n",
            "3         9.8     3  \n",
            "4         9.4     4  \n",
            "...       ...   ...  \n",
            "1138     11.0  1592  \n",
            "1139      9.5  1593  \n",
            "1140     10.5  1594  \n",
            "1141     11.2  1595  \n",
            "1142     10.2  1597  \n",
            "\n",
            "[1143 rows x 12 columns]\n"
          ]
        }
      ]
    },
    {
      "cell_type": "code",
      "source": [
        "import pandas as pd\n",
        "from sklearn.decomposition import PCA\n",
        "a=pd.read_csv(\"/content/WineQT.csv\")\n",
        "x=a.drop(\"quality\", axis=1)\n",
        "print(x)\n",
        "pca=PCA(10)\n",
        "x1=pca.fit_transform(x)\n",
        "print(x1)"
      ],
      "metadata": {
        "colab": {
          "base_uri": "https://localhost:8080/"
        },
        "id": "93R4MdpoONFF",
        "outputId": "3e937b26-53e8-4491-adc2-506ce440d7c9"
      },
      "execution_count": 4,
      "outputs": [
        {
          "output_type": "stream",
          "name": "stdout",
          "text": [
            "      fixed acidity  volatile acidity  citric acid  residual sugar  chlorides  \\\n",
            "0               7.4             0.700         0.00             1.9      0.076   \n",
            "1               7.8             0.880         0.00             2.6      0.098   \n",
            "2               7.8             0.760         0.04             2.3      0.092   \n",
            "3              11.2             0.280         0.56             1.9      0.075   \n",
            "4               7.4             0.700         0.00             1.9      0.076   \n",
            "...             ...               ...          ...             ...        ...   \n",
            "1138            6.3             0.510         0.13             2.3      0.076   \n",
            "1139            6.8             0.620         0.08             1.9      0.068   \n",
            "1140            6.2             0.600         0.08             2.0      0.090   \n",
            "1141            5.9             0.550         0.10             2.2      0.062   \n",
            "1142            5.9             0.645         0.12             2.0      0.075   \n",
            "\n",
            "      free sulfur dioxide  total sulfur dioxide  density    pH  sulphates  \\\n",
            "0                    11.0                  34.0  0.99780  3.51       0.56   \n",
            "1                    25.0                  67.0  0.99680  3.20       0.68   \n",
            "2                    15.0                  54.0  0.99700  3.26       0.65   \n",
            "3                    17.0                  60.0  0.99800  3.16       0.58   \n",
            "4                    11.0                  34.0  0.99780  3.51       0.56   \n",
            "...                   ...                   ...      ...   ...        ...   \n",
            "1138                 29.0                  40.0  0.99574  3.42       0.75   \n",
            "1139                 28.0                  38.0  0.99651  3.42       0.82   \n",
            "1140                 32.0                  44.0  0.99490  3.45       0.58   \n",
            "1141                 39.0                  51.0  0.99512  3.52       0.76   \n",
            "1142                 32.0                  44.0  0.99547  3.57       0.71   \n",
            "\n",
            "      alcohol    Id  \n",
            "0         9.4     0  \n",
            "1         9.8     1  \n",
            "2         9.8     2  \n",
            "3         9.8     3  \n",
            "4         9.4     4  \n",
            "...       ...   ...  \n",
            "1138     11.0  1592  \n",
            "1139      9.5  1593  \n",
            "1140     10.5  1594  \n",
            "1141     11.2  1595  \n",
            "1142     10.2  1597  \n",
            "\n",
            "[1143 rows x 12 columns]\n",
            "[[ 8.04862036e+02 -1.82419563e+01  1.09658876e+00 ...  2.38845309e-03\n",
            "  -1.09574504e-01  2.47165756e-02]\n",
            " [ 8.04084548e+02  1.70223563e+01  7.55093908e+00 ...  2.09015217e-01\n",
            "   1.45338225e-01 -1.32216251e-01]\n",
            " [ 8.03006422e+02  2.15892794e+00  6.26448324e-01 ...  1.15473811e-01\n",
            "   6.86305371e-02 -1.07720463e-01]\n",
            " ...\n",
            " [-7.89056686e+02  7.22409646e+00  1.34854620e+01 ... -2.20208870e-03\n",
            "   1.30403829e-02  2.00794749e-02]\n",
            " [-7.90018649e+02  1.55896886e+01  1.87959743e+01 ...  1.12407908e-01\n",
            "  -3.97179461e-02  3.54115004e-02]\n",
            " [-7.92056733e+02  7.24886655e+00  1.34756007e+01 ...  1.09581136e-01\n",
            "  -5.07987464e-02  1.40490376e-01]]\n"
          ]
        }
      ]
    },
    {
      "cell_type": "code",
      "source": [
        "from sklearn.model_selection import cross_val_score\n",
        "import matplotlib.pyplot as plt\n",
        "from sklearn.neighbors import KNeighborsClassifier\n",
        "accuracy_scores = []\n",
        "k_values = list(range(2, 21))\n",
        "for k in k_values:\n",
        "    knn_classifier = KNeighborsClassifier(n_neighbors=k)\n",
        "    scores = cross_val_score(knn_classifier, x1, y, cv=5, scoring='accuracy')\n",
        "    mean_accuracy = scores.mean()\n",
        "    accuracy_scores.append(mean_accuracy)\n",
        "max=np.max(accuracy_scores)\n",
        "for k, accuracy in zip(k_values, accuracy_scores):\n",
        "    print(f'k={k}, Accuracy={accuracy:.4f}')\n",
        "\n",
        "plt.figure(figsize=(10, 6))\n",
        "plt.plot(k_values, accuracy_scores, marker='o', linestyle='-', color='y')\n",
        "plt.title('Accuracy vs. Number of Neighbors (K)')\n",
        "plt.xlabel('Number of Neighbors (K)')\n",
        "plt.ylabel('Accuracy')\n",
        "plt.xticks(np.arange(2, 21, step=1))\n",
        "plt.grid(True)\n",
        "plt.show()\n",
        "print(\"highest accuracy:\",max)"
      ],
      "metadata": {
        "colab": {
          "base_uri": "https://localhost:8080/",
          "height": 929
        },
        "id": "G3zLChkMOmR_",
        "outputId": "1c881893-0ccd-4dd2-9212-2af763c7691d"
      },
      "execution_count": 8,
      "outputs": [
        {
          "output_type": "stream",
          "name": "stdout",
          "text": [
            "k=2, Accuracy=0.1121\n",
            "k=3, Accuracy=0.1331\n",
            "k=4, Accuracy=0.1322\n",
            "k=5, Accuracy=0.1812\n",
            "k=6, Accuracy=0.1943\n",
            "k=7, Accuracy=0.2633\n",
            "k=8, Accuracy=0.2677\n",
            "k=9, Accuracy=0.2800\n",
            "k=10, Accuracy=0.2949\n",
            "k=11, Accuracy=0.3019\n",
            "k=12, Accuracy=0.3028\n",
            "k=13, Accuracy=0.3019\n",
            "k=14, Accuracy=0.3045\n",
            "k=15, Accuracy=0.3098\n",
            "k=16, Accuracy=0.3019\n",
            "k=17, Accuracy=0.3176\n",
            "k=18, Accuracy=0.3054\n",
            "k=19, Accuracy=0.3097\n",
            "k=20, Accuracy=0.3001\n"
          ]
        },
        {
          "output_type": "display_data",
          "data": {
            "text/plain": [
              "<Figure size 1000x600 with 1 Axes>"
            ],
            "image/png": "[encoded data removed]"
          },
          "metadata": {}
        },
        {
          "output_type": "stream",
          "name": "stdout",
          "text": [
            "highest accuracy: 0.3176434536121964\n"
          ]
        }
      ]
    },
    {
      "cell_type": "code",
      "source": [
        "from sklearn.model_selection import train_test_split\n",
        "from sklearn.metrics import accuracy_score\n",
        "from sklearn.linear_model import LogisticRegression\n",
        "x_train, x_test, y_train, y_test = train_test_split(x1,y,test_size=0.29,random_state=42)\n",
        "model = LogisticRegression()\n",
        "model.fit(x_train, y_train)\n",
        "y_pred = model.predict(x_test)\n",
        "Accuracy = accuracy_score(y_test, y_pred)\n",
        "print(\"Accuracy:\",Accuracy)"
      ],
      "metadata": {
        "colab": {
          "base_uri": "https://localhost:8080/"
        },
        "id": "pqfhzpRHTkXf",
        "outputId": "3fdea576-3552-4572-c757-954cf2b7ef3d"
      },
      "execution_count": 21,
      "outputs": [
        {
          "output_type": "stream",
          "name": "stdout",
          "text": [
            "Accuracy: 0.5572289156626506\n"
          ]
        },
        {
          "output_type": "stream",
          "name": "stderr",
          "text": [
            "/usr/local/lib/python3.10/dist-packages/sklearn/linear_model/_logistic.py:458: ConvergenceWarning: lbfgs failed to converge (status=1):\n",
            "STOP: TOTAL NO. of ITERATIONS REACHED LIMIT.\n",
            "\n",
            "Increase the number of iterations (max_iter) or scale the data as shown in:\n",
            "    https://scikit-learn.org/stable/modules/preprocessing.html\n",
            "Please also refer to the documentation for alternative solver options:\n",
            "    https://scikit-learn.org/stable/modules/linear_model.html#logistic-regression\n",
            "  n_iter_i = _check_optimize_result(\n"
          ]
        }
      ]
    },
    {
      "cell_type": "code",
      "source": [
        "from sklearn.model_selection import train_test_split\n",
        "from sklearn.linear_model import Perceptron\n",
        "x_train, x_test, y_train, y_test= train_test_split(x1,y, test_size=0.2, random_state=42)\n",
        "print(x,x_train)\n",
        "lg=Perceptron()\n",
        "mm=lg.fit(x_train,y_train)\n",
        "yp=mm.predict(x_test)"
      ],
      "metadata": {
        "colab": {
          "base_uri": "https://localhost:8080/"
        },
        "id": "OZYfVg3BWxji",
        "outputId": "52c5050c-a126-477b-d41d-8d3da707704e"
      },
      "execution_count": 25,
      "outputs": [
        {
          "output_type": "stream",
          "name": "stdout",
          "text": [
            "      fixed acidity  volatile acidity  citric acid  residual sugar  chlorides  \\\n",
            "0               7.4             0.700         0.00             1.9      0.076   \n",
            "1               7.8             0.880         0.00             2.6      0.098   \n",
            "2               7.8             0.760         0.04             2.3      0.092   \n",
            "3              11.2             0.280         0.56             1.9      0.075   \n",
            "4               7.4             0.700         0.00             1.9      0.076   \n",
            "...             ...               ...          ...             ...        ...   \n",
            "1138            6.3             0.510         0.13             2.3      0.076   \n",
            "1139            6.8             0.620         0.08             1.9      0.068   \n",
            "1140            6.2             0.600         0.08             2.0      0.090   \n",
            "1141            5.9             0.550         0.10             2.2      0.062   \n",
            "1142            5.9             0.645         0.12             2.0      0.075   \n",
            "\n",
            "      free sulfur dioxide  total sulfur dioxide  density    pH  sulphates  \\\n",
            "0                    11.0                  34.0  0.99780  3.51       0.56   \n",
            "1                    25.0                  67.0  0.99680  3.20       0.68   \n",
            "2                    15.0                  54.0  0.99700  3.26       0.65   \n",
            "3                    17.0                  60.0  0.99800  3.16       0.58   \n",
            "4                    11.0                  34.0  0.99780  3.51       0.56   \n",
            "...                   ...                   ...      ...   ...        ...   \n",
            "1138                 29.0                  40.0  0.99574  3.42       0.75   \n",
            "1139                 28.0                  38.0  0.99651  3.42       0.82   \n",
            "1140                 32.0                  44.0  0.99490  3.45       0.58   \n",
            "1141                 39.0                  51.0  0.99512  3.52       0.76   \n",
            "1142                 32.0                  44.0  0.99547  3.57       0.71   \n",
            "\n",
            "      alcohol    Id  \n",
            "0         9.4     0  \n",
            "1         9.8     1  \n",
            "2         9.8     2  \n",
            "3         9.8     3  \n",
            "4         9.4     4  \n",
            "...       ...   ...  \n",
            "1138     11.0  1592  \n",
            "1139      9.5  1593  \n",
            "1140     10.5  1594  \n",
            "1141     11.2  1595  \n",
            "1142     10.2  1597  \n",
            "\n",
            "[1143 rows x 12 columns] [[ 7.89338716e+02  5.44228499e+01  9.38127656e+00 ... -1.39049111e-01\n",
            "   3.70017143e-02  8.19780639e-02]\n",
            " [-2.71283426e+02 -3.78807226e+01 -5.05776226e+00 ... -5.59712349e-02\n",
            "   7.67349665e-02  3.98121720e-03]\n",
            " [-9.50686435e+01 -7.32115416e+00 -4.31690595e+00 ... -8.55439136e-02\n",
            "  -1.41853817e-01  4.76908174e-03]\n",
            " ...\n",
            " [-7.75145550e+02 -1.54715071e+01 -4.97121388e+00 ... -1.27298615e-01\n",
            "   1.02834156e-03 -4.97646770e-03]\n",
            " [-4.10753489e+02  3.39298918e+01 -1.42447153e+01 ...  3.64399480e-02\n",
            "  -2.40123265e-02  4.53786196e-02]\n",
            " [-7.70197594e+02 -2.07079571e+01 -7.20326997e-01 ... -1.78298584e-02\n",
            "   1.75830768e-01  4.27756773e-02]]\n"
          ]
        }
      ]
    },
    {
      "cell_type": "code",
      "source": [
        "from sklearn.svm import SVC\n",
        "from sklearn.model_selection import train_test_split\n",
        "from sklearn.linear_model import LogisticRegression\n",
        "x_train, x_test, y_train, y_test= train_test_split(x1, y, test_size=0.20, random_state=42)\n",
        "print(x1,x_train)\n",
        "lg=SVC()\n",
        "mm=lg.fit(x_train,y_train)\n",
        "yp=mm.predict(x_test)\n",
        "print(accuracy_score(yp,y_test))"
      ],
      "metadata": {
        "colab": {
          "base_uri": "https://localhost:8080/"
        },
        "id": "gVrC5ZB6W_AB",
        "outputId": "57adcf52-7e97-49f6-9503-4561fb236d16"
      },
      "execution_count": 26,
      "outputs": [
        {
          "output_type": "stream",
          "name": "stdout",
          "text": [
            "[[ 8.04862036e+02 -1.82419563e+01  1.09658876e+00 ...  2.38845309e-03\n",
            "  -1.09574504e-01  2.47165756e-02]\n",
            " [ 8.04084548e+02  1.70223563e+01  7.55093908e+00 ...  2.09015217e-01\n",
            "   1.45338225e-01 -1.32216251e-01]\n",
            " [ 8.03006422e+02  2.15892794e+00  6.26448324e-01 ...  1.15473811e-01\n",
            "   6.86305371e-02 -1.07720463e-01]\n",
            " ...\n",
            " [-7.89056686e+02  7.22409646e+00  1.34854620e+01 ... -2.20208870e-03\n",
            "   1.30403829e-02  2.00794749e-02]\n",
            " [-7.90018649e+02  1.55896886e+01  1.87959743e+01 ...  1.12407908e-01\n",
            "  -3.97179461e-02  3.54115004e-02]\n",
            " [-7.92056733e+02  7.24886655e+00  1.34756007e+01 ...  1.09581136e-01\n",
            "  -5.07987464e-02  1.40490376e-01]] [[ 7.89338716e+02  5.44228499e+01  9.38127656e+00 ... -1.39049111e-01\n",
            "   3.70017143e-02  8.19780639e-02]\n",
            " [-2.71283426e+02 -3.78807226e+01 -5.05776226e+00 ... -5.59712349e-02\n",
            "   7.67349665e-02  3.98121720e-03]\n",
            " [-9.50686435e+01 -7.32115416e+00 -4.31690595e+00 ... -8.55439136e-02\n",
            "  -1.41853817e-01  4.76908174e-03]\n",
            " ...\n",
            " [-7.75145550e+02 -1.54715071e+01 -4.97121388e+00 ... -1.27298615e-01\n",
            "   1.02834156e-03 -4.97646770e-03]\n",
            " [-4.10753489e+02  3.39298918e+01 -1.42447153e+01 ...  3.64399480e-02\n",
            "  -2.40123265e-02  4.53786196e-02]\n",
            " [-7.70197594e+02 -2.07079571e+01 -7.20326997e-01 ... -1.78298584e-02\n",
            "   1.75830768e-01  4.27756773e-02]]\n",
            "0.5240174672489083\n"
          ]
        }
      ]
    }
  ]
}